{
 "cells": [
  {
   "cell_type": "code",
   "execution_count": 1,
   "id": "cef7dcfd",
   "metadata": {},
   "outputs": [
    {
     "name": "stdout",
     "output_type": "stream",
     "text": [
      "[[1 1 0 0 1 1 0 0]\n",
      " [0 0 1 1 0 0 1 1]\n",
      " [1 1 0 0 1 1 0 0]\n",
      " [0 0 1 1 0 0 1 1]\n",
      " [1 1 0 0 1 1 0 0]\n",
      " [0 0 1 1 0 0 1 1]\n",
      " [1 1 0 0 1 1 0 0]\n",
      " [0 0 1 1 0 0 1 1]]\n"
     ]
    }
   ],
   "source": [
    "#Prog No:12\n",
    "\n",
    "import numpy as np\n",
    "x=np.zeros((8,8),dtype=int)\n",
    "x[::2,0:2:]=1\n",
    "x[::2,4:6:]=1\n",
    "x[1::2,2:4:]=1\n",
    "x[1::2,6:8:]=1\n",
    "print(x)"
   ]
  },
  {
   "cell_type": "code",
   "execution_count": 2,
   "id": "aa3ef397",
   "metadata": {},
   "outputs": [
    {
     "name": "stdout",
     "output_type": "stream",
     "text": [
      "Array is: [[0 1 2]\n",
      " [3 4 5]\n",
      " [6 7 8]]\n",
      "Array as Coloumns:\n",
      "1st Coloumn: [0 3 6]\n",
      "2nd Coloumn: [1 4 7]\n",
      "3rd Coloumn: [2 5 8]\n"
     ]
    }
   ],
   "source": [
    "#Prog No:13\n",
    "\n",
    "import numpy as np\n",
    "x=np.arange(9).reshape(3,3)\n",
    "print(\"Array is:\",x)\n",
    "print(\"Array as Coloumns:\")\n",
    "print(\"1st Coloumn:\",x[:,0])\n",
    "print(\"2nd Coloumn:\",x[:,1])\n",
    "print(\"3rd Coloumn:\",x[:,2])\n"
   ]
  },
  {
   "cell_type": "code",
   "execution_count": 3,
   "id": "2936223f",
   "metadata": {},
   "outputs": [
    {
     "name": "stdout",
     "output_type": "stream",
     "text": [
      "Matrix1: [[1 0]\n",
      " [0 1]]\n",
      "Matrix2: [[1 2]\n",
      " [3 4]]\n",
      "Matrix multiplication: [[1 2]\n",
      " [3 4]]\n",
      "Addition of Matrix: [[2 2]\n",
      " [3 5]]\n"
     ]
    }
   ],
   "source": [
    "#Prog No:14\n",
    "\n",
    "import numpy as np\n",
    "m1=np.array([[1,0],[0,1]])\n",
    "m2=np.array([[1,2],[3,4]])\n",
    "print(\"Matrix1:\",m1)\n",
    "print(\"Matrix2:\",m2)\n",
    "print(\"Matrix multiplication:\",np.dot(m1,m2))\n",
    "print(\"Addition of Matrix:\",np.add(m1,m2))\n"
   ]
  },
  {
   "cell_type": "code",
   "execution_count": 4,
   "id": "7f0c78e2",
   "metadata": {},
   "outputs": [
    {
     "name": "stdout",
     "output_type": "stream",
     "text": [
      "Matrix: [[ 3 -2]\n",
      " [ 1  0]]\n",
      "eigen values: [2. 1.]\n",
      "eigen vectors: [[0.89442719 0.70710678]\n",
      " [0.4472136  0.70710678]]\n"
     ]
    }
   ],
   "source": [
    "#Prog No:15\n",
    "\n",
    "import numpy as np\n",
    "m=np.mat(\"3,-2;1,0\")\n",
    "print(\"Matrix:\",m)\n",
    "e1,e2=np.linalg.eig(m)\n",
    "print(\"eigen values:\",e1)\n",
    "print(\"eigen vectors:\",e2)"
   ]
  },
  {
   "cell_type": "code",
   "execution_count": 5,
   "id": "35b80fee",
   "metadata": {},
   "outputs": [
    {
     "name": "stdout",
     "output_type": "stream",
     "text": [
      "Matrix: [[1 2 3]\n",
      " [3 1 0]\n",
      " [5 3 1]]\n",
      "Transpose of matrix: [[1 3 5]\n",
      " [2 1 3]\n",
      " [3 0 1]]\n",
      "Determinant of matrix: 7.000000000000003\n",
      "Inverse of matrix: [[ 0.14285714  1.         -0.42857143]\n",
      " [-0.42857143 -2.          1.28571429]\n",
      " [ 0.57142857  1.         -0.71428571]]\n"
     ]
    }
   ],
   "source": [
    "#Prog No:16\n",
    "\n",
    "import numpy as np\n",
    "m=np.array([[1,2,3],[3,1,0],[5,3,1]])\n",
    "print(\"Matrix:\",m)\n",
    "print(\"Transpose of matrix:\",m.transpose())\n",
    "print(\"Determinant of matrix:\",np.linalg.det(m))\n",
    "print(\"Inverse of matrix:\",np.linalg.inv(m))"
   ]
  },
  {
   "cell_type": "code",
   "execution_count": null,
   "id": "0fdc8d28",
   "metadata": {},
   "outputs": [],
   "source": []
  }
 ],
 "metadata": {
  "kernelspec": {
   "display_name": "Python 3 (ipykernel)",
   "language": "python",
   "name": "python3"
  },
  "language_info": {
   "codemirror_mode": {
    "name": "ipython",
    "version": 3
   },
   "file_extension": ".py",
   "mimetype": "text/x-python",
   "name": "python",
   "nbconvert_exporter": "python",
   "pygments_lexer": "ipython3",
   "version": "3.9.12"
  }
 },
 "nbformat": 4,
 "nbformat_minor": 5
}
