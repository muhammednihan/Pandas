{
 "cells": [
  {
   "cell_type": "code",
   "execution_count": 1,
   "id": "edf57df2",
   "metadata": {},
   "outputs": [
    {
     "name": "stdout",
     "output_type": "stream",
     "text": [
      "[ 1  2  3  4  5  6  7  8  9 10 11 12 13 14]\n",
      "14\n",
      "Enter the number to update:19\n",
      "[ 1  2  3  4  5  6  7  8 19 10 11 12 13 14]\n",
      "Reversed array is: [14 13 12 11 10 19  8  7  6  5  4  3  2  1]\n",
      "7x2 Matrix: [[ 1  2]\n",
      " [ 3  4]\n",
      " [ 5  6]\n",
      " [ 7  8]\n",
      " [19 10]\n",
      " [11 12]\n",
      " [13 14]]\n"
     ]
    }
   ],
   "source": [
    "#Prog No:4\n",
    "\n",
    "import numpy as np\n",
    "arr=np.arange(1,15)\n",
    "print(arr)\n",
    "print(arr.size)\n",
    "num=int(input(\"Enter the number to update:\"))\n",
    "arr[8]=num\n",
    "print(arr)\n",
    "print(\"Reversed array is:\",arr[::-1])\n",
    "new_arr=arr.reshape(7,2)\n",
    "print(\"7x2 Matrix:\",new_arr)"
   ]
  },
  {
   "cell_type": "code",
   "execution_count": 62,
   "id": "dfd9f305",
   "metadata": {},
   "outputs": [
    {
     "name": "stdout",
     "output_type": "stream",
     "text": [
      "Checkerboard Pattern:\n",
      "[[0 0 0 0 1 1 1 1]\n",
      " [1 1 1 1 0 0 0 0]\n",
      " [0 0 0 0 1 1 1 1]\n",
      " [1 1 1 1 0 0 0 0]\n",
      " [0 0 0 0 1 1 1 1]\n",
      " [1 1 1 1 0 0 0 0]\n",
      " [0 0 0 0 1 1 1 1]\n",
      " [1 1 1 1 0 0 0 0]]\n"
     ]
    }
   ],
   "source": [
    "import numpy as np\n",
    "print(\"Checkerboard Pattern:\")\n",
    "n=np.zeros((8,8),dtype=int)\n",
    "n[::2,4::]=1\n",
    "n[1::2,0:4:]=1\n",
    "print(n)"
   ]
  },
  {
   "cell_type": "code",
   "execution_count": 63,
   "id": "91bec0a3",
   "metadata": {},
   "outputs": [
    {
     "name": "stdout",
     "output_type": "stream",
     "text": [
      "Enter the number:9\n",
      "Not Prime\n"
     ]
    }
   ],
   "source": [
    "#Prog No:1\n",
    "\n",
    "n=int(input(\"Enter the number:\"))\n",
    "i=0\n",
    "flag=0\n",
    "if n==0 or n==1:\n",
    "    print(\"Not prime\")\n",
    "else:\n",
    "    for i in range(2,n):\n",
    "        if(n%i==0):\n",
    "            flag=1\n",
    "    if(flag==1):\n",
    "        print(\"Not Prime\")\n",
    "    else:\n",
    "        print(\"Prime\")"
   ]
  },
  {
   "cell_type": "code",
   "execution_count": null,
   "id": "9a903e45",
   "metadata": {},
   "outputs": [],
   "source": []
  }
 ],
 "metadata": {
  "kernelspec": {
   "display_name": "Python 3 (ipykernel)",
   "language": "python",
   "name": "python3"
  },
  "language_info": {
   "codemirror_mode": {
    "name": "ipython",
    "version": 3
   },
   "file_extension": ".py",
   "mimetype": "text/x-python",
   "name": "python",
   "nbconvert_exporter": "python",
   "pygments_lexer": "ipython3",
   "version": "3.9.12"
  }
 },
 "nbformat": 4,
 "nbformat_minor": 5
}
