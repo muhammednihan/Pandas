{
 "cells": [
  {
   "cell_type": "code",
   "execution_count": 1,
   "id": "8cdebf48",
   "metadata": {},
   "outputs": [
    {
     "name": "stdout",
     "output_type": "stream",
     "text": [
      "0    1\n",
      "1    2\n",
      "2    3\n",
      "dtype: int64\n"
     ]
    }
   ],
   "source": [
    "import pandas as pd\n",
    "arr=[1,2,3]\n",
    "a=pd.Series(arr)\n",
    "print(a)"
   ]
  },
  {
   "cell_type": "code",
   "execution_count": 5,
   "id": "0711b0fa",
   "metadata": {},
   "outputs": [
    {
     "name": "stdout",
     "output_type": "stream",
     "text": [
      "i    4\n",
      "j    5\n",
      "k    6\n",
      "l    7\n",
      "dtype: int64\n",
      "6\n"
     ]
    }
   ],
   "source": [
    "import pandas as pd\n",
    "arr=[4,5,6,7]\n",
    "a=pd.Series(arr,index=[\"i\",\"j\",\"k\",\"l\"])\n",
    "print(a)\n",
    "print(a[\"k\"])"
   ]
  },
  {
   "cell_type": "code",
   "execution_count": 6,
   "id": "628c5923",
   "metadata": {},
   "outputs": [
    {
     "name": "stdout",
     "output_type": "stream",
     "text": [
      "0     7\n",
      "1    15\n",
      "2    17\n",
      "3    19\n",
      "dtype: int64\n",
      "0    1\n",
      "1    1\n",
      "2    1\n",
      "3    1\n",
      "dtype: int64\n",
      "0    1\n",
      "1    1\n",
      "2    1\n",
      "3    1\n",
      "dtype: int64\n",
      "0    1.333333\n",
      "1    1.142857\n",
      "2    1.125000\n",
      "3    1.111111\n",
      "dtype: float64\n"
     ]
    }
   ],
   "source": [
    "s1=pd.Series([4,8,9,10])\n",
    "s2=pd.Series([3,7,8,9])\n",
    "s_sum=s1+s2\n",
    "s_diff=s1-s2\n",
    "s_mul=s1-s2\n",
    "s_div=s1/s2\n",
    "print(s_sum)\n",
    "print(s_diff)\n",
    "print(s_mul)\n",
    "print(s_div)"
   ]
  },
  {
   "cell_type": "code",
   "execution_count": 9,
   "id": "7df857ee",
   "metadata": {},
   "outputs": [
    {
     "name": "stdout",
     "output_type": "stream",
     "text": [
      "     sports  players\n",
      "0  football  ronaldo\n",
      "1   cricket    messi\n",
      "2    hockey    kohli\n"
     ]
    }
   ],
   "source": [
    "data={\"sports\":[\"football\",\"cricket\",\"hockey\"],\"players\":[\"ronaldo\",\"messi\",\"kohli\"]}\n",
    "df=pd.DataFrame(data)\n",
    "print(df)"
   ]
  },
  {
   "cell_type": "code",
   "execution_count": 15,
   "id": "68caaafc",
   "metadata": {},
   "outputs": [
    {
     "name": "stdout",
     "output_type": "stream",
     "text": [
      "     sports  players\n",
      "0  football  ronaldo\n",
      "1   cricket    messi\n",
      "2    hockey    kohli\n"
     ]
    }
   ],
   "source": [
    "data={\"sports\":[\"football\",\"cricket\",\"hockey\"],\"players\":[\"ronaldo\",\"messi\",\"kohli\"]}\n",
    "df=pd.DataFrame(data)\n",
    "df.to_csv('data1.csv',index=False)\n",
    "df=pd.read_csv('data1.csv')\n",
    "print(df)"
   ]
  },
  {
   "cell_type": "code",
   "execution_count": 1,
   "id": "b115ed8a",
   "metadata": {},
   "outputs": [
    {
     "name": "stdout",
     "output_type": "stream",
     "text": [
      "<class 'pandas.core.frame.DataFrame'>\n",
      "RangeIndex: 10 entries, 0 to 9\n",
      "Data columns (total 4 columns):\n",
      " #   Column   Non-Null Count  Dtype  \n",
      "---  ------   --------------  -----  \n",
      " 0   name     10 non-null     object \n",
      " 1   score    9 non-null      float64\n",
      " 2   attempt  10 non-null     int64  \n",
      " 3   qualify  10 non-null     object \n",
      "dtypes: float64(1), int64(1), object(2)\n",
      "memory usage: 448.0+ bytes\n",
      "None\n",
      "\n",
      "\n",
      "        name qualify\n",
      "0   Abhijith     yes\n",
      "1       Ajay      no\n",
      "2       Arun     yes\n",
      "3    Shabeeb     yes\n",
      "4  Abhimanyu     yes\n",
      "5       Amal     yes\n",
      "6     Littul      no\n",
      "7      Gokul      no\n",
      "8     Sourav     yes\n",
      "9   Vibijith     yes\n",
      "\n",
      "\n",
      "     name  score  attempt qualify\n",
      "1    Ajay    8.0        3      no\n",
      "6  Littul    NaN        5      no\n",
      "\n",
      "\n",
      "Rows: 10  Coloum: 4\n",
      "\n",
      "\n",
      "        name  score  attempt qualify\n",
      "0   Abhijith   75.0        1     yes\n",
      "2       Arun   85.0        1     yes\n",
      "4  Abhimanyu   82.0        1     yes\n",
      "5       Amal   88.0        1     yes\n",
      "8     Sourav   87.0        1     yes\n",
      "\n",
      "\n",
      "     name  score  attempt qualify\n",
      "6  Littul    NaN        5      no\n"
     ]
    }
   ],
   "source": [
    "import numpy as np\n",
    "import pandas as pd\n",
    "exam_data={\"name\":[\"Abhijith\",\"Ajay\",\"Arun\",\"Shabeeb\",\"Abhimanyu\",\"Amal\",\"Littul\",\"Gokul\",\"Sourav\",\"Vibijith\"],\"score\":[75,8,85,90,82,88,np.nan,6,87,96],\"attempt\":[1,3,1,2,1,1,5,2,1,2],\"qualify\":['yes','no','yes','yes','yes','yes','no','no','yes','yes']}\n",
    "ed=pd.DataFrame(exam_data)\n",
    "print(ed.info())\n",
    "print(\"\\n\")\n",
    "print(ed[['name','qualify']])\n",
    "print(\"\\n\")\n",
    "print(ed[ed['attempt']>2])\n",
    "print(\"\\n\")\n",
    "trows=len(ed.axes[0])\n",
    "tcols=len(ed.axes[1])\n",
    "print(\"Rows:\",trows,\" Coloum:\",tcols)\n",
    "print(\"\\n\")\n",
    "print(ed[(ed['attempt']<2)&(ed['score']>10)])\n",
    "print(\"\\n\")\n",
    "print(ed[ed['score'].isnull()])"
   ]
  },
  {
   "cell_type": "code",
   "execution_count": 16,
   "id": "16960263",
   "metadata": {},
   "outputs": [
    {
     "name": "stdout",
     "output_type": "stream",
     "text": [
      "A\n",
      "     id       name   age     degree  cgpa class\n",
      "0  101       Abhi   NaN        NaN   NaN     A\n",
      "1  102  Kannaappi  20.0         CS   4.0     A\n",
      "2  103        NaN  20.0        BCA   3.2     B\n",
      "3  104      Achan  20.0    Physics   3.7     C\n",
      "4  105   Kovaalji  25.0  Chemsitry   4.2     A\n",
      "5  106   Kelippen  20.0      Maths   4.3     B \n",
      "\n",
      "B\n",
      "No of Coloumns: 6 \n",
      "\n",
      "C\n",
      "     id       name   age degree  cgpa class\n",
      "0  101       Abhi   NaN    NaN   NaN     A\n",
      "1  102  Kannaappi  20.0     CS   4.0     A\n",
      "2  103        NaN  20.0    BCA   3.2     B\n",
      "\n",
      "\n",
      "    id      name   age     degree  cgpa class\n",
      "2  103       NaN  20.0        BCA   3.2     B\n",
      "3  104     Achan  20.0    Physics   3.7     C\n",
      "4  105  Kovaalji  25.0  Chemsitry   4.2     A\n",
      "5  106  Kelippen  20.0      Maths   4.3     B\n",
      "\n",
      "\n",
      "D\n",
      "     id       name   age     degree  cgpa class\n",
      "1  102  Kannaappi  20.0         CS   4.0     A\n",
      "3  104      Achan  20.0    Physics   3.7     C\n",
      "4  105   Kovaalji  25.0  Chemsitry   4.2     A\n",
      "5  106   Kelippen  20.0      Maths   4.3     B \n",
      "\n",
      "E\n",
      "         name   age     degree  cgpa class\n",
      "0       Abhi   NaN        NaN   NaN     A\n",
      "1  Kannaappi  20.0         CS   4.0     A\n",
      "2        NaN  20.0        BCA   3.2     B\n",
      "3      Achan  20.0    Physics   3.7     C\n",
      "4   Kovaalji  25.0  Chemsitry   4.2     A\n",
      "5   Kelippen  20.0      Maths   4.3     B \n",
      "\n",
      "F\n",
      "        name  cgpa\n",
      "2       NaN   3.2\n",
      "3     Achan   3.7\n",
      "4  Kovaalji   4.2\n",
      "5  Kelippen   4.3 \n",
      "\n",
      "G\n",
      "         name   age     degree  cgpa class\n",
      "0       Abhi  21.0        NaN   NaN     A\n",
      "1  Kannaappi  20.0         CS   4.0     A\n",
      "2        NaN  20.0        BCA   3.2     B\n",
      "3      Achan  20.0    Physics   3.7     C\n",
      "4   Kovaalji  25.0  Chemsitry   4.2     A\n",
      "5   Kelippen  20.0      Maths   4.3     B\n"
     ]
    }
   ],
   "source": [
    "import numpy as np\n",
    "import pandas as pd\n",
    "dic={\"id\":[101,102,103,104,105,106],\n",
    "     \"name\":[\"Abhi\",\"Kannaappi\",np.nan,\"Achan\",\"Kovaalji\",\"Kelippen\"],\n",
    "     \"age\":[np.nan,20,20,20,25,20],\n",
    "     \"degree\":[np.nan,\"CS\",\"BCA\",\"Physics\",\"Chemsitry\",\"Maths\"],\n",
    "     \"cgpa\":[np.nan,4.0,3.2,3.7,4.2,4.3]}\n",
    "df=pd.DataFrame(dic)\n",
    "cls=['A','A','B','C','A','B']\n",
    "df['class']=cls\n",
    "print(\"A\\n\",df,\"\\n\")\n",
    "tc=len(df.axes[1])\n",
    "print(\"B\\nNo of Coloumns:\",tc,\"\\n\")\n",
    "print(\"C\\n\",df.head(3))\n",
    "print(\"\\n\")\n",
    "print(df.tail(4))\n",
    "print(\"\\n\")\n",
    "df2=df.dropna()\n",
    "print(\"D\\n\",df2,\"\\n\")\n",
    "df.pop('id')\n",
    "print(\"E\\n\",df,\"\\n\")\n",
    "df1=df.iloc[2:6]\n",
    "print(\"F\\n\",df1[['name','cgpa']],\"\\n\")\n",
    "mean_val=df['age'].mean()\n",
    "df['age'].fillna(value=mean_val,inplace=True)\n",
    "print(\"G\\n\",df)"
   ]
  },
  {
   "cell_type": "code",
   "execution_count": null,
   "id": "9d31954f",
   "metadata": {},
   "outputs": [],
   "source": []
  }
 ],
 "metadata": {
  "kernelspec": {
   "display_name": "Python 3 (ipykernel)",
   "language": "python",
   "name": "python3"
  },
  "language_info": {
   "codemirror_mode": {
    "name": "ipython",
    "version": 3
   },
   "file_extension": ".py",
   "mimetype": "text/x-python",
   "name": "python",
   "nbconvert_exporter": "python",
   "pygments_lexer": "ipython3",
   "version": "3.9.12"
  }
 },
 "nbformat": 4,
 "nbformat_minor": 5
}
