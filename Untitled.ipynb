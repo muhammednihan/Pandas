{
 "cells": [
  {
   "cell_type": "code",
   "execution_count": null,
   "id": "0ba7b64d",
   "metadata": {},
   "outputs": [],
   "source": [
    "#Prog No:1\n",
    "\n",
    "n=int(input(\"Enter the number:\"))\n",
    "i=0\n",
    "flag=0\n",
    "if n==0 or n==1:\n",
    "    print(\"Not prime\")\n",
    "else:\n",
    "    for i in range(2,n):\n",
    "        if(n%i==0):\n",
    "            flag=1\n",
    "    if(flag==1):\n",
    "        print(\"Not Prime\")\n",
    "    else:\n",
    "        print(\"Prime\")"
   ]
  },
  {
   "cell_type": "code",
   "execution_count": 19,
   "id": "b060a910",
   "metadata": {},
   "outputs": [
    {
     "name": "stdout",
     "output_type": "stream",
     "text": [
      "123456\n",
      "2\n",
      "['1', '2', '3', '4', '5', '6']\n",
      "['1', '3', '4', '5', '6']\n"
     ]
    }
   ],
   "source": [
    "#Prog No:2\n",
    "\n",
    "n=list(input())\n",
    "r=input()\n",
    "print(n)\n",
    "while r in n:\n",
    "    n.remove(r)\n",
    "print(n)"
   ]
  },
  {
   "cell_type": "code",
   "execution_count": 20,
   "id": "8a560a4f",
   "metadata": {},
   "outputs": [
    {
     "name": "stdout",
     "output_type": "stream",
     "text": [
      "Hi Hello Hi\n",
      "Hi\n",
      "Hi occurs 2 times\n"
     ]
    }
   ],
   "source": [
    "#Prog No:3\n",
    "\n",
    "sen=input()\n",
    "w=input()\n",
    "lis=[]\n",
    "c=0\n",
    "lis=sen.split(\" \")\n",
    "for i in range(len(lis)):\n",
    "    if(lis[i]==w):\n",
    "        c=c+1\n",
    "        \n",
    "print(w,\"occurs\",c,\"times\")"
   ]
  },
  {
   "cell_type": "code",
   "execution_count": null,
   "id": "2f369e2f",
   "metadata": {},
   "outputs": [],
   "source": [
    "#Prog No:4\n",
    "\n",
    "import numpy as np\n",
    "arr=np.arange(1,15)\n",
    "print(arr)\n",
    "print(arr.size)\n",
    "num=int(input(\"Enter the number to update:\"))\n",
    "arr[8]=num\n",
    "print(arr)\n",
    "print(\"Reversed array is:\",arr[::-1])\n",
    "new_arr=arr.reshape(7,2)\n",
    "print(\"7x2 Matrix:\",new_arr)"
   ]
  },
  {
   "cell_type": "code",
   "execution_count": 10,
   "id": "daadc3fb",
   "metadata": {},
   "outputs": [
    {
     "name": "stdout",
     "output_type": "stream",
     "text": [
      "[[12 13 14 15]\n",
      " [16 17 18 19]\n",
      " [20 21 22 23]\n",
      " [24 25 26 27]\n",
      " [28 29 30 31]]\n",
      "Shape: 2\n",
      "Type: <class 'numpy.ndarray'>\n",
      "Datatype int64\n"
     ]
    }
   ],
   "source": [
    "#Prog No:5\n",
    "\n",
    "import numpy as np\n",
    "n=np.arange(12,32).reshape(5,4)\n",
    "print(n)\n",
    "print(\"Shape:\",n.ndim)\n",
    "print(\"Type:\",type(n))\n",
    "print(\"Datatype\",n.dtype)"
   ]
  },
  {
   "cell_type": "code",
   "execution_count": 9,
   "id": "90c2a935",
   "metadata": {},
   "outputs": [
    {
     "name": "stdout",
     "output_type": "stream",
     "text": [
      "[0 1 2 3 4]\n"
     ]
    }
   ],
   "source": [
    "import numpy as np\n",
    "arr=np.arange(5)\n",
    "print(arr)"
   ]
  },
  {
   "cell_type": "code",
   "execution_count": 11,
   "id": "5e677922",
   "metadata": {},
   "outputs": [
    {
     "name": "stdout",
     "output_type": "stream",
     "text": [
      "Checkerboard Pattern:\n",
      "[[0 1 0 1 0 1 0 1]\n",
      " [1 0 1 0 1 0 1 0]\n",
      " [0 1 0 1 0 1 0 1]\n",
      " [1 0 1 0 1 0 1 0]\n",
      " [0 1 0 1 0 1 0 1]\n",
      " [1 0 1 0 1 0 1 0]\n",
      " [0 1 0 1 0 1 0 1]\n",
      " [1 0 1 0 1 0 1 0]]\n"
     ]
    }
   ],
   "source": [
    "#Prog No:6\n",
    "\n",
    "import numpy as np\n",
    "print(\"Checkerboard Pattern:\")\n",
    "n=np.zeros((8,8),dtype=int)\n",
    "n[1::2,::2]=1\n",
    "n[::2,1::2]=1\n",
    "print(n)"
   ]
  },
  {
   "cell_type": "code",
   "execution_count": 12,
   "id": "37531c50",
   "metadata": {},
   "outputs": [
    {
     "name": "stdout",
     "output_type": "stream",
     "text": [
      "Array1: [0 1 2 3 4 5]\n",
      "Array2: [0 4]\n",
      "Comparison of each element of array1 & array2:\n",
      "[ True False False False  True False]\n"
     ]
    }
   ],
   "source": [
    "#Prog No:7\n",
    "\n",
    "import numpy as np\n",
    "array1=np.array([0,1,2,3,4,5])\n",
    "print(\"Array1:\",array1)\n",
    "array2=np.array([0,4])\n",
    "print(\"Array2:\",array2)\n",
    "print(\"Comparison of each element of array1 & array2:\")\n",
    "print(np.in1d(array1,array2))"
   ]
  },
  {
   "cell_type": "code",
   "execution_count": 13,
   "id": "0dfe7685",
   "metadata": {},
   "outputs": [
    {
     "name": "stdout",
     "output_type": "stream",
     "text": [
      "Common element are: [1 2 3]\n",
      "Union: [0 1 2 3 4 5 6 7]\n"
     ]
    }
   ],
   "source": [
    "#Prog No:8\n",
    "\n",
    "import numpy as np\n",
    "arr1=np.array([0,1,2,3,4,5])\n",
    "arr2=np.array([1,2,3,6,7])\n",
    "print(\"Common element are:\",np.intersect1d(arr1,arr2))\n",
    "print(\"Union:\",np.union1d(arr1,arr2))"
   ]
  },
  {
   "cell_type": "code",
   "execution_count": 14,
   "id": "5ef2f02b",
   "metadata": {},
   "outputs": [
    {
     "name": "stdout",
     "output_type": "stream",
     "text": [
      "[1 2 3 5]\n"
     ]
    }
   ],
   "source": [
    "#Prog No:9\n",
    "\n",
    "import numpy as np\n",
    "arr=np.array([1,2,3,3,1,5,2])\n",
    "res=np.unique(arr)\n",
    "print(res)"
   ]
  },
  {
   "cell_type": "code",
   "execution_count": 15,
   "id": "def3888d",
   "metadata": {},
   "outputs": [
    {
     "name": "stdout",
     "output_type": "stream",
     "text": [
      "Array:\n",
      "[1 2 3 4]\n",
      "<class 'numpy.ndarray'>\n",
      "List: [1, 2, 3, 4]\n",
      "<class 'list'>\n"
     ]
    }
   ],
   "source": [
    "#Prog No:10\n",
    "\n",
    "import numpy as np\n",
    "print(\"Array:\")\n",
    "arr=np.array([1,2,3,4])\n",
    "print(arr)\n",
    "print(type(arr))\n",
    "lis=arr.tolist()\n",
    "print(\"List:\",lis)\n",
    "print(type(lis))"
   ]
  },
  {
   "cell_type": "code",
   "execution_count": null,
   "id": "b23cb4f1",
   "metadata": {},
   "outputs": [],
   "source": [
    "#Prog No:4\n",
    "\n",
    "import numpy as np\n",
    "arr=np.arange(1,15)\n",
    "print(arr)\n",
    "print(arr.size)\n",
    "num=int(input(\"Enter the number to update:\"))\n",
    "arr[8]=num\n",
    "print(arr)\n",
    "print(\"Reversed array is:\",arr[::-1])\n",
    "new_arr=arr.reshape(7,2)\n",
    "print(\"7x2 Matrix:\",new_arr)"
   ]
  },
  {
   "cell_type": "code",
   "execution_count": null,
   "id": "080df616",
   "metadata": {},
   "outputs": [],
   "source": []
  }
 ],
 "metadata": {
  "kernelspec": {
   "display_name": "Python 3 (ipykernel)",
   "language": "python",
   "name": "python3"
  },
  "language_info": {
   "codemirror_mode": {
    "name": "ipython",
    "version": 3
   },
   "file_extension": ".py",
   "mimetype": "text/x-python",
   "name": "python",
   "nbconvert_exporter": "python",
   "pygments_lexer": "ipython3",
   "version": "3.9.12"
  }
 },
 "nbformat": 4,
 "nbformat_minor": 5
}
